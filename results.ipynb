{
 "cells": [
  {
   "cell_type": "markdown",
   "metadata": {},
   "source": [
    "# Results\n",
    "\n",
    "---"
   ]
  },
  {
   "cell_type": "code",
   "execution_count": null,
   "metadata": {},
   "outputs": [],
   "source": [
    "import matplotlib.pyplot as plt\n",
    "\n",
    "from binomial_tree import *\n",
    "from black_scholes import * "
   ]
  },
  {
   "cell_type": "markdown",
   "metadata": {},
   "source": [
    "## **Part II** <br/> Binomial Tree: *option valuation*\n",
    "\n",
    "---"
   ]
  },
  {
   "cell_type": "markdown",
   "metadata": {},
   "source": [
    "### Q2\n",
    "- Plot binomial estimates against analytical values over volatility."
   ]
  },
  {
   "cell_type": "code",
   "execution_count": null,
   "metadata": {},
   "outputs": [],
   "source": [
    "# parameters\n",
    "T = 1        # maturity (years)\n",
    "K = 99       # strike price at t = T\n",
    "r = 0.06     # interest rate\n",
    "S_0 = 100    # stock price at t = 0\n",
    "N = 50       # timesteps"
   ]
  },
  {
   "cell_type": "code",
   "execution_count": null,
   "metadata": {},
   "outputs": [],
   "source": [
    "sigmas = np.linspace(0.01, 1, 100)  # TODO is volatility necessarily positive and bounded to 100%?\n",
    "\n",
    "binom_ests = []\n",
    "bs_ests = []\n",
    "\n",
    "for sigma in sigmas:\n",
    "    binom_tree = buildTree(S_0, sigma, T, N)\n",
    "    binom_ests.append(valueOptionBinomial(binom_tree , T, r , K, sigma, return_tree=False))\n",
    "    bs_ests.append(valueOptionBlackScholes(S_0, K, r, sigma, T))\n",
    "\n",
    "differences = np.abs(np.array(binom_ests) - np.array(bs_ests))"
   ]
  },
  {
   "cell_type": "code",
   "execution_count": null,
   "metadata": {},
   "outputs": [],
   "source": [
    "# plot results\n",
    "plt.plot(sigmas, binom_ests, label='Binomial tree')\n",
    "plt.plot(sigmas, bs_ests, label='Black-Scholes')\n",
    "plt.xlabel('$\\\\sigma$')\n",
    "plt.ylabel('$V(\\\\tau)$')\n",
    "plt.legend()\n",
    "plt.show()"
   ]
  },
  {
   "cell_type": "code",
   "execution_count": null,
   "metadata": {},
   "outputs": [],
   "source": [
    "# plot the differences\n",
    "plt.plot(sigmas, differences)\n",
    "plt.xlabel('$\\\\sigma$')\n",
    "plt.ylabel('$|\\\\hat{f}-f|$')\n",
    "plt.yscale('log')\n",
    "plt.show()"
   ]
  },
  {
   "cell_type": "markdown",
   "metadata": {},
   "source": [
    "---"
   ]
  },
  {
   "cell_type": "markdown",
   "metadata": {},
   "source": [
    "### Q3\n",
    "- Plot binomial estimates against analytical values over steps in the tree."
   ]
  },
  {
   "cell_type": "code",
   "execution_count": null,
   "metadata": {},
   "outputs": [],
   "source": [
    "# parameters\n",
    "T = 1        # maturity (years)\n",
    "K = 99       # strike price at t = T\n",
    "r = 0.06     # interest rate\n",
    "S_0 = 100    # stock price at t = 0\n",
    "sigma = 0.2  # volatility"
   ]
  },
  {
   "cell_type": "code",
   "execution_count": null,
   "metadata": {},
   "outputs": [],
   "source": [
    "Ns = np.arange(1, 501)  # is volatility necessarily positive and bounded to 100%?\n",
    "\n",
    "binom_ests = []\n",
    "bs_ests = []\n",
    "\n",
    "for n in Ns:\n",
    "    binom_tree = buildTree(S_0, sigma, T, n)\n",
    "    binom_ests.append(valueOptionBinomial(binom_tree , T, r , K, sigma, return_tree=False))\n",
    "    bs_ests.append(valueOptionBlackScholes(S_0, K, r, sigma, T))\n",
    "\n",
    "differences = np.abs(np.array(binom_ests) - np.array(bs_ests))"
   ]
  },
  {
   "cell_type": "code",
   "execution_count": null,
   "metadata": {},
   "outputs": [],
   "source": [
    "# plot results\n",
    "plt.plot(Ns, binom_ests, label='Binomial tree')\n",
    "plt.plot(Ns, bs_ests, label='Black-Scholes')\n",
    "plt.xlabel('$N$')\n",
    "plt.ylabel('$V(\\\\tau)$')\n",
    "plt.legend()\n",
    "plt.show()"
   ]
  },
  {
   "cell_type": "code",
   "execution_count": null,
   "metadata": {},
   "outputs": [],
   "source": [
    "# plot the differences\n",
    "plt.plot(Ns, differences)\n",
    "plt.xlabel('$N$')\n",
    "plt.ylabel('$|\\\\hat{f}-f|$')\n",
    "plt.yscale('log')\n",
    "plt.show()"
   ]
  },
  {
   "cell_type": "markdown",
   "metadata": {},
   "source": [
    "---"
   ]
  },
  {
   "cell_type": "markdown",
   "metadata": {},
   "source": [
    "### Q4\n",
    "- Binomial delta estimates against bs delta values over different values of volatility."
   ]
  }
 ],
 "metadata": {
  "language_info": {
   "name": "python"
  }
 },
 "nbformat": 4,
 "nbformat_minor": 2
}
