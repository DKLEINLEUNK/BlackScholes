{
 "cells": [
  {
   "cell_type": "code",
   "execution_count": null,
   "metadata": {},
   "outputs": [],
   "source": [
    "from binomial_tree import *\n",
    "from black_scholes import *\n",
    "import matplotlib.pyplot as plt"
   ]
  },
  {
   "cell_type": "markdown",
   "metadata": {},
   "source": [
    "## **Part II** <br/> Binomial Tree: *option valuation Continued*\n",
    "\n",
    "---"
   ]
  },
  {
   "cell_type": "markdown",
   "metadata": {},
   "source": [
    "### Q4\n",
    "- Comparison of delta parameters"
   ]
  },
  {
   "cell_type": "code",
   "execution_count": null,
   "metadata": {},
   "outputs": [],
   "source": [
    "sigma = 0.2 \n",
    "S = 100 \n",
    "T = 1\n",
    "N = 50\n",
    "dt = T/N\n",
    "K = 99 \n",
    "r = 0.06\n",
    "\n",
    "\n"
   ]
  },
  {
   "cell_type": "code",
   "execution_count": null,
   "metadata": {},
   "outputs": [],
   "source": [
    "#Comparing hedge parameters \n",
    "sigmas = np.arange(0.10, 1.10,0.10)  # is volatility necessarily positive and bounded to 100%?\n",
    "\n",
    "binom_delta_ests = []\n",
    "bs_delta_ests = []\n",
    "\n",
    "for sigma in sigmas:\n",
    "    #Parameters for Hedge parameter\n",
    "    tree = buildTree(S, sigma , T, N)\n",
    "    payoff_tree = valueOptionBinomial(tree , T, r , K, sigma, option_type = \"Call\", return_tree=True)\n",
    "    fu = payoff_tree[1][1]\n",
    "    fd = payoff_tree[1][0]\n",
    "    u = np.exp(sigma*np.sqrt(dt)) #According to formula derived in appendix\n",
    "    d = np.exp(-sigma*np.sqrt(dt)) \n",
    "\n",
    "    \n",
    "    bs_hedge_parameter = compute_hedge_parameter_black_scholes(S, K, r, sigma, T)\n",
    "    bs_delta_ests.append(bs_hedge_parameter)\n",
    "    \n",
    "    binomial_hedge_parameter = compute_hedge_parameter_binomial(fu, fd,S,u,d)\n",
    "    binom_delta_ests.append(binomial_hedge_parameter)\n",
    "\n",
    "\n",
    "difference_list_abs = np.abs(np.array(binom_delta_ests) - np.array(bs_delta_ests))\n",
    "\n",
    "\n"
   ]
  },
  {
   "cell_type": "code",
   "execution_count": null,
   "metadata": {},
   "outputs": [],
   "source": [
    "plt.plot(sigmas, difference_list_abs)\n",
    "plt.ylabel(\"Difference in hedge ratios\")\n",
    "plt.xlabel(\"$\\\\sigma$\")\n",
    "plt.legend()\n"
   ]
  },
  {
   "cell_type": "markdown",
   "metadata": {},
   "source": [
    "- For different N's"
   ]
  },
  {
   "cell_type": "code",
   "execution_count": null,
   "metadata": {},
   "outputs": [],
   "source": [
    "#Comparing hedge parameters \n",
    "sigmas = np.arange(0.10, 1.10,0.10)  # is volatility necessarily positive and bounded to 100%?\n",
    "\n",
    "binom_delta_ests = []\n",
    "bs_delta_ests = []\n",
    "\n",
    "Ns = np.arange(10, 60, 10) \n",
    "\n",
    "for n in Ns:\n",
    "    \n",
    "    for sigma in sigmas:\n",
    "        #Parameters for Hedge parameter\n",
    "        tree = buildTree(S, sigma , T, n)\n",
    "        payoff_tree = valueOptionBinomial(tree , T, r , K, sigma, option_type = \"Call\", return_tree=True)\n",
    "        fu = payoff_tree[1][1]\n",
    "        fd = payoff_tree[1][0]\n",
    "        u = np.exp(sigma*np.sqrt(dt)) #According to formula derived in appendix\n",
    "        d = np.exp(-sigma*np.sqrt(dt)) \n",
    "\n",
    "\n",
    "        bs_hedge_parameter = compute_hedge_parameter_black_scholes(S, K, r, sigma, T)\n",
    "        bs_delta_ests.append(bs_hedge_parameter)\n",
    "        \n",
    "        binomial_hedge_parameter = compute_hedge_parameter_binomial(fu, fd,S,u,d)\n",
    "        binom_delta_ests.append(binomial_hedge_parameter)\n",
    "\n",
    "\n",
    "    difference_list_abs = np.abs(np.array(binom_delta_ests) - np.array(bs_delta_ests))\n",
    "\n",
    "    print(f\"When n = {n}: \", difference_list_abs )\n",
    "\n",
    "    plt.plot(sigmas, difference_list_abs, label = f\" n = {n}\")\n",
    "    #plt.yscale('log')\n",
    "    \n",
    "    binom_delta_ests = []\n",
    "    bs_delta_ests = []\n",
    "\n",
    "plt.xlabel('$\\\\sigma$')\n",
    "plt.ylabel(\"Difference in hedge ratios\")\n",
    "plt.legend()\n",
    "\n",
    "\n",
    "\n"
   ]
  },
  {
   "cell_type": "markdown",
   "metadata": {},
   "source": [
    "### Q5\n",
    "- American vs European Call/Put value"
   ]
  },
  {
   "cell_type": "code",
   "execution_count": null,
   "metadata": {},
   "outputs": [],
   "source": [
    "sigma = 0.2\n",
    "S = 100 \n",
    "T = 1\n",
    "N = 50\n",
    "dt = T/N\n",
    "K = 99 \n",
    "r = 0.06\n",
    "option_type_C = \"Call\"\n",
    "option_type_P = \"Put\"\n",
    "\n",
    "tree = buildTree(S, sigma , T, N)\n",
    "C_0_European = valueOptionBinomial(tree , T, r , K, sigma,  option_type_C, return_tree=False)\n",
    "C_0_American = valueUSOptionBinomial(tree , T, r , K, sigma,  option_type_C, return_tree=False)\n",
    "            \n",
    "P_0_European = valueOptionBinomial(tree , T, r , K, sigma,  option_type_P, return_tree=False)\n",
    "P_0_American = valueUSOptionBinomial(tree , T, r , K, sigma,  option_type_P, return_tree=False)\n",
    "\n",
    "print(f\"European {option_type_C} option value -->\", C_0_European)\n",
    "print(f\"American {option_type_C} option value -->\",C_0_American)\n",
    "print(f\"European {option_type_P} option value -->\", P_0_European)\n",
    "print(f\"American {option_type_P} option value -->\",P_0_American)\n",
    "\n"
   ]
  },
  {
   "cell_type": "markdown",
   "metadata": {},
   "source": [
    "- Experimenting with different volatilities"
   ]
  },
  {
   "cell_type": "code",
   "execution_count": null,
   "metadata": {},
   "outputs": [],
   "source": [
    "sigmas = np.arange(0.10, 1, 0.10)  # TODO is volatility necessarily positive and bounded to 100%?\n",
    "\n",
    "\n",
    "european_call_prices = []\n",
    "european_put_prices = []\n",
    "\n",
    "american_call_prices = []\n",
    "american_put_prices = []\n",
    "\n",
    "\n",
    "\n",
    "for sigma in sigmas:\n",
    "\n",
    "    #Compute European Values\n",
    "    #---------------------------------------------------------------------------------------------\n",
    "    C_0_European = valueOptionBinomial(tree , T, r , K, sigma,  option_type_C, return_tree=False)\n",
    "    P_0_European = valueOptionBinomial(tree , T, r , K, sigma,  option_type_P, return_tree=False)\n",
    "\n",
    "    european_call_prices.append(C_0_European)\n",
    "    european_put_prices.append(P_0_European)\n",
    "\n",
    "    #Compute American Values\n",
    "    #---------------------------------------------------------------------------------------------\n",
    "    C_0_American = valueUSOptionBinomial(tree , T, r , K, sigma,  option_type_C, return_tree=False)\n",
    "    P_0_American = valueUSOptionBinomial(tree , T, r , K, sigma,  option_type_P, return_tree=False)\n",
    "    \n",
    "    american_call_prices.append(C_0_American)\n",
    "    american_put_prices.append(P_0_American)\n",
    "    \n",
    "        "
   ]
  },
  {
   "cell_type": "code",
   "execution_count": null,
   "metadata": {},
   "outputs": [],
   "source": [
    "fig, axs = plt.subplots(2,2, figsize=(10, 8))\n",
    "\n",
    "axs[0, 0].plot(sigmas, european_call_prices) \n",
    "axs[0, 0].set_title('European Call') \n",
    "\n",
    "axs[0, 1].plot(sigmas, american_call_prices, color = \"red\") \n",
    "axs[0, 1].set_title(\"American Call\") \n",
    "\n",
    "axs[1, 0].plot(sigmas, european_put_prices)\n",
    "axs[1, 0].set_title('European Put') \n",
    "\n",
    "axs[1, 1].plot(sigmas, american_put_prices, color = \"red\") \n",
    "axs[1, 1].set_title(\"American Put\") "
   ]
  }
 ],
 "metadata": {
  "kernelspec": {
   "display_name": "base",
   "language": "python",
   "name": "python3"
  },
  "language_info": {
   "codemirror_mode": {
    "name": "ipython",
    "version": 3
   },
   "file_extension": ".py",
   "mimetype": "text/x-python",
   "name": "python",
   "nbconvert_exporter": "python",
   "pygments_lexer": "ipython3",
   "version": "3.11.4"
  }
 },
 "nbformat": 4,
 "nbformat_minor": 2
}
